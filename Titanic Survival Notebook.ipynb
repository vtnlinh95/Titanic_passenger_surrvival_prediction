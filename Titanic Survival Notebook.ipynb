{
 "cells": [
  {
   "attachments": {},
   "cell_type": "markdown",
   "metadata": {},
   "source": [
    "## Titanic Survival Prediction Notebook\n",
    "In this notebook, I use decision tree to predict whether a passenger is survived or not based on some of features:\n",
    "* Embarked\n",
    "* Cabin\n",
    "* Fare\n",
    "* Parch\n",
    "* SibSp\n",
    "\n",
    "In this excersise, I try to use the algorithm called **Iterative Dichotomiser 3** to build the decision tree myself. This algorithm uses _Entropy_ function and _Information gain_ as metrics.\n",
    "\n",
    "In this algorithm, the best feature/attribute is chosen based on the information gained. The feature which has the highest information gain is used to split the dataset.\n",
    "\n",
    "#### The formula to calculte the entropy:\n",
    "![](https://cdn-images-1.medium.com/max/2000/1*EoWJ8bxc-iqBS-dF-XxsBA.jpeg)\n",
    "\n",
    "#### The formula to calculate the information gain:\n",
    "![](https://cdn-images-1.medium.com/max/2000/1*wQjVzx7zCVb87htqk46vUA.jpeg)\n",
    "\n",
    "#### The steps to apply **Iterative Dichotomiser 3** to build the decision tree:\n",
    "1. Compute the entropy for data-set\n",
    "2. For every attribute/feature:\n",
    "    1. Calculate entropy for all categorical values\n",
    "    2. Take average information entropy for the current attribute\n",
    "    3. Calculate gain for the current attribute\n",
    "3. Pick the highest gain attribute.\n",
    "4. Repeat until we get the tree we desired.\n",
    "\n",
    "\n",
    "First of all, before building the decision tree, we have to analyze and clean the dataset before use it to train.\n",
    "\n",
    "### Load libraries"
   ]
  },
  {
   "cell_type": "code",
   "execution_count": 1,
   "metadata": {},
   "outputs": [],
   "source": [
    "import operator\n",
    "import pandas as pd\n",
    "import math as math"
   ]
  },
  {
   "cell_type": "markdown",
   "metadata": {},
   "source": [
    "### Read the data"
   ]
  },
  {
   "cell_type": "code",
   "execution_count": 36,
   "metadata": {},
   "outputs": [
    {
     "name": "stdout",
     "output_type": "stream",
     "text": [
      "<class 'pandas.core.frame.DataFrame'>\n",
      "RangeIndex: 891 entries, 0 to 890\n",
      "Data columns (total 12 columns):\n",
      "PassengerId    891 non-null int64\n",
      "Survived       891 non-null int64\n",
      "Pclass         891 non-null int64\n",
      "Name           891 non-null object\n",
      "Sex            891 non-null object\n",
      "Age            714 non-null float64\n",
      "SibSp          891 non-null int64\n",
      "Parch          891 non-null int64\n",
      "Ticket         891 non-null object\n",
      "Fare           891 non-null float64\n",
      "Cabin          204 non-null object\n",
      "Embarked       889 non-null object\n",
      "dtypes: float64(2), int64(5), object(5)\n",
      "memory usage: 83.6+ KB\n"
     ]
    }
   ],
   "source": [
    "in_file = 'train.csv'\n",
    "full_data = pd.read_csv(in_file)\n",
    "full_data.info()"
   ]
  },
  {
   "cell_type": "markdown",
   "metadata": {},
   "source": [
    "### Analyze the data\n",
    "\n",
    "As we can see, the column **PassengerId**, **Ticket** and **Name** should be removed because it is different for each passenger.\n",
    "We also remove the column **Sex**, **Age**, **PClass** according the requirement of the instructor."
   ]
  },
  {
   "cell_type": "code",
   "execution_count": 37,
   "metadata": {},
   "outputs": [
    {
     "data": {
      "text/html": [
       "<div>\n",
       "<style scoped>\n",
       "    .dataframe tbody tr th:only-of-type {\n",
       "        vertical-align: middle;\n",
       "    }\n",
       "\n",
       "    .dataframe tbody tr th {\n",
       "        vertical-align: top;\n",
       "    }\n",
       "\n",
       "    .dataframe thead th {\n",
       "        text-align: right;\n",
       "    }\n",
       "</style>\n",
       "<table border=\"1\" class=\"dataframe\">\n",
       "  <thead>\n",
       "    <tr style=\"text-align: right;\">\n",
       "      <th></th>\n",
       "      <th>Survived</th>\n",
       "      <th>SibSp</th>\n",
       "      <th>Parch</th>\n",
       "      <th>Fare</th>\n",
       "      <th>Cabin</th>\n",
       "      <th>Embarked</th>\n",
       "    </tr>\n",
       "  </thead>\n",
       "  <tbody>\n",
       "    <tr>\n",
       "      <th>0</th>\n",
       "      <td>0</td>\n",
       "      <td>1</td>\n",
       "      <td>0</td>\n",
       "      <td>7.2500</td>\n",
       "      <td>NaN</td>\n",
       "      <td>S</td>\n",
       "    </tr>\n",
       "    <tr>\n",
       "      <th>1</th>\n",
       "      <td>1</td>\n",
       "      <td>1</td>\n",
       "      <td>0</td>\n",
       "      <td>71.2833</td>\n",
       "      <td>C85</td>\n",
       "      <td>C</td>\n",
       "    </tr>\n",
       "    <tr>\n",
       "      <th>2</th>\n",
       "      <td>1</td>\n",
       "      <td>0</td>\n",
       "      <td>0</td>\n",
       "      <td>7.9250</td>\n",
       "      <td>NaN</td>\n",
       "      <td>S</td>\n",
       "    </tr>\n",
       "    <tr>\n",
       "      <th>3</th>\n",
       "      <td>1</td>\n",
       "      <td>1</td>\n",
       "      <td>0</td>\n",
       "      <td>53.1000</td>\n",
       "      <td>C123</td>\n",
       "      <td>S</td>\n",
       "    </tr>\n",
       "    <tr>\n",
       "      <th>4</th>\n",
       "      <td>0</td>\n",
       "      <td>0</td>\n",
       "      <td>0</td>\n",
       "      <td>8.0500</td>\n",
       "      <td>NaN</td>\n",
       "      <td>S</td>\n",
       "    </tr>\n",
       "  </tbody>\n",
       "</table>\n",
       "</div>"
      ],
      "text/plain": [
       "   Survived  SibSp  Parch     Fare Cabin Embarked\n",
       "0         0      1      0   7.2500   NaN        S\n",
       "1         1      1      0  71.2833   C85        C\n",
       "2         1      0      0   7.9250   NaN        S\n",
       "3         1      1      0  53.1000  C123        S\n",
       "4         0      0      0   8.0500   NaN        S"
      ]
     },
     "execution_count": 37,
     "metadata": {},
     "output_type": "execute_result"
    }
   ],
   "source": [
    "full_data = full_data.drop('PassengerId', axis=1)\n",
    "full_data = full_data.drop('Ticket', axis=1)\n",
    "full_data = full_data.drop('Pclass', axis=1)\n",
    "full_data = full_data.drop('Age', axis=1)\n",
    "full_data = full_data.drop('Sex', axis=1)\n",
    "full_data = full_data.drop('Name', axis=1)\n",
    "full_data.head()"
   ]
  },
  {
   "cell_type": "markdown",
   "metadata": {},
   "source": [
    "It is also clearly seen that some rows has the value _NaN_ at column **Cabin** so we will replace all the value _NaN_ with _U_ which means _Unknown_"
   ]
  },
  {
   "cell_type": "code",
   "execution_count": 38,
   "metadata": {},
   "outputs": [
    {
     "data": {
      "text/html": [
       "<div>\n",
       "<style scoped>\n",
       "    .dataframe tbody tr th:only-of-type {\n",
       "        vertical-align: middle;\n",
       "    }\n",
       "\n",
       "    .dataframe tbody tr th {\n",
       "        vertical-align: top;\n",
       "    }\n",
       "\n",
       "    .dataframe thead th {\n",
       "        text-align: right;\n",
       "    }\n",
       "</style>\n",
       "<table border=\"1\" class=\"dataframe\">\n",
       "  <thead>\n",
       "    <tr style=\"text-align: right;\">\n",
       "      <th></th>\n",
       "      <th>Survived</th>\n",
       "      <th>SibSp</th>\n",
       "      <th>Parch</th>\n",
       "      <th>Fare</th>\n",
       "      <th>Cabin</th>\n",
       "      <th>Embarked</th>\n",
       "    </tr>\n",
       "  </thead>\n",
       "  <tbody>\n",
       "    <tr>\n",
       "      <th>0</th>\n",
       "      <td>0</td>\n",
       "      <td>1</td>\n",
       "      <td>0</td>\n",
       "      <td>7.2500</td>\n",
       "      <td>U</td>\n",
       "      <td>S</td>\n",
       "    </tr>\n",
       "    <tr>\n",
       "      <th>1</th>\n",
       "      <td>1</td>\n",
       "      <td>1</td>\n",
       "      <td>0</td>\n",
       "      <td>71.2833</td>\n",
       "      <td>C85</td>\n",
       "      <td>C</td>\n",
       "    </tr>\n",
       "    <tr>\n",
       "      <th>2</th>\n",
       "      <td>1</td>\n",
       "      <td>0</td>\n",
       "      <td>0</td>\n",
       "      <td>7.9250</td>\n",
       "      <td>U</td>\n",
       "      <td>S</td>\n",
       "    </tr>\n",
       "    <tr>\n",
       "      <th>3</th>\n",
       "      <td>1</td>\n",
       "      <td>1</td>\n",
       "      <td>0</td>\n",
       "      <td>53.1000</td>\n",
       "      <td>C123</td>\n",
       "      <td>S</td>\n",
       "    </tr>\n",
       "    <tr>\n",
       "      <th>4</th>\n",
       "      <td>0</td>\n",
       "      <td>0</td>\n",
       "      <td>0</td>\n",
       "      <td>8.0500</td>\n",
       "      <td>U</td>\n",
       "      <td>S</td>\n",
       "    </tr>\n",
       "  </tbody>\n",
       "</table>\n",
       "</div>"
      ],
      "text/plain": [
       "   Survived  SibSp  Parch     Fare Cabin Embarked\n",
       "0         0      1      0   7.2500     U        S\n",
       "1         1      1      0  71.2833   C85        C\n",
       "2         1      0      0   7.9250     U        S\n",
       "3         1      1      0  53.1000  C123        S\n",
       "4         0      0      0   8.0500     U        S"
      ]
     },
     "execution_count": 38,
     "metadata": {},
     "output_type": "execute_result"
    }
   ],
   "source": [
    "full_data['Cabin'].fillna('U', inplace=True)\n",
    "full_data.head()"
   ]
  },
  {
   "cell_type": "markdown",
   "metadata": {},
   "source": [
    "The data of column **Fare** is continuous variable so we have to convert data into discrete variable. "
   ]
  },
  {
   "cell_type": "code",
   "execution_count": 39,
   "metadata": {},
   "outputs": [
    {
     "name": "stdout",
     "output_type": "stream",
     "text": [
      "512.3292\n",
      "0.0\n"
     ]
    }
   ],
   "source": [
    "print full_data['Fare'].max()\n",
    "print full_data['Fare'].min()"
   ]
  },
  {
   "cell_type": "markdown",
   "metadata": {},
   "source": [
    "We find out that the max value of **Fare** is 512.3292 and the minimum value is 0. Therefore, I decide divide the range of the fare into 6 and each separates by 100 so that the **Fare** column is discrete and only contains the value from 1 to 6."
   ]
  },
  {
   "cell_type": "code",
   "execution_count": 40,
   "metadata": {},
   "outputs": [
    {
     "data": {
      "text/html": [
       "<div>\n",
       "<style scoped>\n",
       "    .dataframe tbody tr th:only-of-type {\n",
       "        vertical-align: middle;\n",
       "    }\n",
       "\n",
       "    .dataframe tbody tr th {\n",
       "        vertical-align: top;\n",
       "    }\n",
       "\n",
       "    .dataframe thead th {\n",
       "        text-align: right;\n",
       "    }\n",
       "</style>\n",
       "<table border=\"1\" class=\"dataframe\">\n",
       "  <thead>\n",
       "    <tr style=\"text-align: right;\">\n",
       "      <th></th>\n",
       "      <th>Survived</th>\n",
       "      <th>SibSp</th>\n",
       "      <th>Parch</th>\n",
       "      <th>Fare</th>\n",
       "      <th>Cabin</th>\n",
       "      <th>Embarked</th>\n",
       "    </tr>\n",
       "  </thead>\n",
       "  <tbody>\n",
       "    <tr>\n",
       "      <th>0</th>\n",
       "      <td>0</td>\n",
       "      <td>1</td>\n",
       "      <td>0</td>\n",
       "      <td>1.0</td>\n",
       "      <td>U</td>\n",
       "      <td>S</td>\n",
       "    </tr>\n",
       "    <tr>\n",
       "      <th>1</th>\n",
       "      <td>1</td>\n",
       "      <td>1</td>\n",
       "      <td>0</td>\n",
       "      <td>1.0</td>\n",
       "      <td>C85</td>\n",
       "      <td>C</td>\n",
       "    </tr>\n",
       "    <tr>\n",
       "      <th>2</th>\n",
       "      <td>1</td>\n",
       "      <td>0</td>\n",
       "      <td>0</td>\n",
       "      <td>1.0</td>\n",
       "      <td>U</td>\n",
       "      <td>S</td>\n",
       "    </tr>\n",
       "    <tr>\n",
       "      <th>3</th>\n",
       "      <td>1</td>\n",
       "      <td>1</td>\n",
       "      <td>0</td>\n",
       "      <td>1.0</td>\n",
       "      <td>C123</td>\n",
       "      <td>S</td>\n",
       "    </tr>\n",
       "    <tr>\n",
       "      <th>4</th>\n",
       "      <td>0</td>\n",
       "      <td>0</td>\n",
       "      <td>0</td>\n",
       "      <td>1.0</td>\n",
       "      <td>U</td>\n",
       "      <td>S</td>\n",
       "    </tr>\n",
       "  </tbody>\n",
       "</table>\n",
       "</div>"
      ],
      "text/plain": [
       "   Survived  SibSp  Parch  Fare Cabin Embarked\n",
       "0         0      1      0   1.0     U        S\n",
       "1         1      1      0   1.0   C85        C\n",
       "2         1      0      0   1.0     U        S\n",
       "3         1      1      0   1.0  C123        S\n",
       "4         0      0      0   1.0     U        S"
      ]
     },
     "execution_count": 40,
     "metadata": {},
     "output_type": "execute_result"
    }
   ],
   "source": [
    "full_data.loc[operator.__and__(0.0 <= full_data.Fare, full_data.Fare <= 100.0), 'Fare'] = 1\n",
    "full_data.loc[operator.__and__(101.0 <= full_data.Fare, full_data.Fare <= 200.0), 'Fare'] = 2\n",
    "full_data.loc[operator.__and__(201.0 <= full_data.Fare, full_data.Fare <= 300.0), 'Fare'] = 3\n",
    "full_data.loc[operator.__and__(301.0 <= full_data.Fare, full_data.Fare <= 400.0), 'Fare'] = 4\n",
    "full_data.loc[operator.__and__(401.0<= full_data.Fare, full_data.Fare <= 500.0), 'Fare'] = 5\n",
    "full_data.loc[501.0 <= full_data.Fare, 'Fare'] = 6\n",
    "full_data.head()"
   ]
  },
  {
   "cell_type": "markdown",
   "metadata": {},
   "source": [
    "With the **Cabin** column, we should convert it into categorical variable"
   ]
  },
  {
   "cell_type": "code",
   "execution_count": 41,
   "metadata": {},
   "outputs": [
    {
     "data": {
      "text/html": [
       "<div>\n",
       "<style scoped>\n",
       "    .dataframe tbody tr th:only-of-type {\n",
       "        vertical-align: middle;\n",
       "    }\n",
       "\n",
       "    .dataframe tbody tr th {\n",
       "        vertical-align: top;\n",
       "    }\n",
       "\n",
       "    .dataframe thead th {\n",
       "        text-align: right;\n",
       "    }\n",
       "</style>\n",
       "<table border=\"1\" class=\"dataframe\">\n",
       "  <thead>\n",
       "    <tr style=\"text-align: right;\">\n",
       "      <th></th>\n",
       "      <th>Survived</th>\n",
       "      <th>SibSp</th>\n",
       "      <th>Parch</th>\n",
       "      <th>Fare</th>\n",
       "      <th>Cabin</th>\n",
       "      <th>Embarked</th>\n",
       "    </tr>\n",
       "  </thead>\n",
       "  <tbody>\n",
       "    <tr>\n",
       "      <th>0</th>\n",
       "      <td>0</td>\n",
       "      <td>1</td>\n",
       "      <td>0</td>\n",
       "      <td>1.0</td>\n",
       "      <td>U</td>\n",
       "      <td>S</td>\n",
       "    </tr>\n",
       "    <tr>\n",
       "      <th>1</th>\n",
       "      <td>1</td>\n",
       "      <td>1</td>\n",
       "      <td>0</td>\n",
       "      <td>1.0</td>\n",
       "      <td>C</td>\n",
       "      <td>C</td>\n",
       "    </tr>\n",
       "    <tr>\n",
       "      <th>2</th>\n",
       "      <td>1</td>\n",
       "      <td>0</td>\n",
       "      <td>0</td>\n",
       "      <td>1.0</td>\n",
       "      <td>U</td>\n",
       "      <td>S</td>\n",
       "    </tr>\n",
       "    <tr>\n",
       "      <th>3</th>\n",
       "      <td>1</td>\n",
       "      <td>1</td>\n",
       "      <td>0</td>\n",
       "      <td>1.0</td>\n",
       "      <td>C</td>\n",
       "      <td>S</td>\n",
       "    </tr>\n",
       "    <tr>\n",
       "      <th>4</th>\n",
       "      <td>0</td>\n",
       "      <td>0</td>\n",
       "      <td>0</td>\n",
       "      <td>1.0</td>\n",
       "      <td>U</td>\n",
       "      <td>S</td>\n",
       "    </tr>\n",
       "  </tbody>\n",
       "</table>\n",
       "</div>"
      ],
      "text/plain": [
       "   Survived  SibSp  Parch  Fare Cabin Embarked\n",
       "0         0      1      0   1.0     U        S\n",
       "1         1      1      0   1.0     C        C\n",
       "2         1      0      0   1.0     U        S\n",
       "3         1      1      0   1.0     C        S\n",
       "4         0      0      0   1.0     U        S"
      ]
     },
     "execution_count": 41,
     "metadata": {},
     "output_type": "execute_result"
    }
   ],
   "source": [
    "full_data['Cabin'] = full_data['Cabin'].apply(lambda cabin : cabin[:1])\n",
    "full_data.head()"
   ]
  },
  {
   "cell_type": "markdown",
   "metadata": {},
   "source": [
    "After cleaning up the data, I divide into two set, training dataset and testing data set with the ratio of 7:3"
   ]
  },
  {
   "cell_type": "code",
   "execution_count": 42,
   "metadata": {},
   "outputs": [],
   "source": [
    "original_data = full_data.sample(frac=0.7)\n",
    "test_data = full_data.drop(original_data.index)"
   ]
  },
  {
   "cell_type": "markdown",
   "metadata": {},
   "source": [
    "I store my whole decision tree in a variable call _tree_.\n",
    "To automate performing validation on my testing data set, I create a class called **Node** which is used while classify a test-instance using the tree which was built earlier."
   ]
  },
  {
   "cell_type": "code",
   "execution_count": 43,
   "metadata": {},
   "outputs": [],
   "source": [
    "tree = {}"
   ]
  },
  {
   "cell_type": "code",
   "execution_count": 44,
   "metadata": {},
   "outputs": [],
   "source": [
    "class Node():\n",
    "    value = \"\"\n",
    "    children = []\n",
    "\n",
    "    def __init__(self, val, dictionary):\n",
    "        self.value = val\n",
    "        if (isinstance(dictionary, dict)):\n",
    "            self.children = dictionary.keys()"
   ]
  },
  {
   "cell_type": "markdown",
   "metadata": {},
   "source": [
    "### Building Tree"
   ]
  },
  {
   "cell_type": "markdown",
   "metadata": {},
   "source": [
    "The function _find_tree_ is used to build the tree based on the **ID3** algorithm based on the steps described previous. The function _calculate_entropy_ is used to calculate the entropy of each set."
   ]
  },
  {
   "cell_type": "code",
   "execution_count": 48,
   "metadata": {},
   "outputs": [],
   "source": [
    "def find_tree(original_data):\n",
    "    count_survived = original_data[original_data['Survived'] == 1].shape[0]\n",
    "    count_not_survived = original_data[original_data['Survived'] == 0].shape[0]\n",
    "    if count_survived == 0 and count_not_survived != 0:\n",
    "        return 0\n",
    "    if count_not_survived == 0 and count_survived != 0:\n",
    "        return 1\n",
    "    list_features = list(original_data.columns.values)\n",
    "    list_features.remove('Survived')\n",
    "    max_feature = None\n",
    "    max_gain = -1\n",
    "    for feature in list_features:\n",
    "        list_values = original_data[feature].unique()\n",
    "        entropy = 0\n",
    "        for value in list_values:\n",
    "            entropy += calculate_entropy(original_data, feature, value)\n",
    "        gain = calculate_entropy(original_data, feature=None, value=None) - entropy\n",
    "        if gain > max_gain:\n",
    "            max_feature = feature\n",
    "            max_gain = gain\n",
    "    tree = {max_feature: {}}\n",
    "    for value in original_data[max_feature].unique():\n",
    "        new_data = original_data.copy()\n",
    "        new_data = new_data[new_data[max_feature] == value]\n",
    "        new_data = new_data.drop(max_feature, axis=1)\n",
    "        features = list(new_data.columns.values)\n",
    "        if len(features) == 1 and features.__contains__('Survived'):\n",
    "            if count_not_survived > count_survived:\n",
    "                tree[max_feature][value] = 0\n",
    "            else:\n",
    "                tree[max_feature][value] = 1\n",
    "            continue\n",
    "        subtree = find_tree(new_data)\n",
    "        tree[max_feature][value] = subtree\n",
    "    return tree\n",
    "\n",
    "def calculate_entropy(original_data, feature, value):\n",
    "    data = original_data.copy()\n",
    "    if feature != None and value != None:\n",
    "        data = data[data[feature] == value]\n",
    "    # count row\n",
    "    # data.shape[1] count columns\n",
    "    total = (float)(data.shape[0])\n",
    "    num_survived = (float)(data[data['Survived'] == 1].shape[0])\n",
    "    num_not_survived = (float)(total - num_survived)\n",
    "    if num_survived == 0.0 or num_not_survived == 0.0:\n",
    "        return 0\n",
    "    pyes = -(num_survived / total) * math.log(num_survived / total, 2)\n",
    "    pno = -(num_not_survived / total) * math.log(num_not_survived / total, 2)\n",
    "    pt = total / original_data.shape[0]\n",
    "    return (pyes + pno) * pt"
   ]
  },
  {
   "cell_type": "code",
   "execution_count": 49,
   "metadata": {},
   "outputs": [],
   "source": [
    "tree = find_tree(original_data)"
   ]
  },
  {
   "cell_type": "markdown",
   "metadata": {},
   "source": [
    "The function _accuracy_score_ is used to calculate the accuracy of predicted value compared with the test data."
   ]
  },
  {
   "cell_type": "code",
   "execution_count": 50,
   "metadata": {},
   "outputs": [],
   "source": [
    "def accuracy_score(truth, pred, name):\n",
    "    \"\"\" Returns accuracy score for input truth and predictions. \"\"\"\n",
    "\n",
    "    if len(truth) == len(pred):\n",
    "        # Calculate and return the accuracy as a percent\n",
    "        # {:2f}.format((truth == pred).mean()*100)\n",
    "        # \":\" represents format specification\n",
    "        # \"2f\" represents 2 decimal places\n",
    "        return \"{} Predictions have an accuracy of {:.2f}.\".format(name, (truth.values == pred.values).mean() * 100)\n",
    "    else:\n",
    "        return \"Number of predictions does not match number of outcomes!\""
   ]
  },
  {
   "cell_type": "code",
   "execution_count": 51,
   "metadata": {},
   "outputs": [],
   "source": [
    "outcomes = test_data['Survived']"
   ]
  },
  {
   "cell_type": "markdown",
   "metadata": {},
   "source": [
    "The code below is used to use the tree to predict whether a passenger is survived or not and calculate the accuracy of the tree"
   ]
  },
  {
   "cell_type": "code",
   "execution_count": 52,
   "metadata": {},
   "outputs": [
    {
     "name": "stdout",
     "output_type": "stream",
     "text": [
      "Accuracy Predictions have an accuracy of 66.29.\n"
     ]
    }
   ],
   "source": [
    "results = []\n",
    "for entry in test_data.iterrows():\n",
    "    tempDict = tree.copy()\n",
    "    result = \"\"\n",
    "    while (isinstance(tempDict, dict)):\n",
    "        root = Node(tempDict.keys()[0], tempDict[tempDict.keys()[0]])\n",
    "        tempDict = tempDict[tempDict.keys()[0]]\n",
    "        value = entry[1][root.value]\n",
    "        if (value in tempDict.keys()):\n",
    "            child = Node(value, tempDict[value])\n",
    "            result = tempDict[value]\n",
    "            tempDict = tempDict[value]\n",
    "        else:\n",
    "            result = \"Null\"\n",
    "            break\n",
    "    if result != \"Null\":\n",
    "        results.append(result)\n",
    "    else:\n",
    "        results.append(0)\n",
    "results = pd.Series(results)\n",
    "outcomes = test_data['Survived']\n",
    "results.reset_index(drop=True)\n",
    "outcomes.reset_index(drop=True)\n",
    "print(accuracy_score(outcomes, results, \"Accuracy\"))"
   ]
  },
  {
   "cell_type": "markdown",
   "metadata": {},
   "source": [
    "The accuracy of 66% is quite low so I extract titles from passenger names. In this case, I do not drop the **Name** column but I convert it into the categorical variable. The map to map the title of each passenger is described below."
   ]
  },
  {
   "cell_type": "code",
   "execution_count": 53,
   "metadata": {},
   "outputs": [],
   "source": [
    "Title_Dictionary = {\n",
    "                    \"Capt\":       \"Officer\",\n",
    "                    \"Col\":        \"Officer\",\n",
    "                    \"Major\":      \"Officer\",\n",
    "                    \"Jonkheer\":   \"Royalty\",\n",
    "                    \"Don\":        \"Royalty\",\n",
    "                    \"Sir\" :       \"Royalty\",\n",
    "                    \"Dr\":         \"Officer\",\n",
    "                    \"Rev\":        \"Officer\",\n",
    "                    \"the Countess\":\"Royalty\",\n",
    "                    \"Dona\":       \"Royalty\",\n",
    "                    \"Mme\":        \"Mrs\",\n",
    "                    \"Mlle\":       \"Miss\",\n",
    "                    \"Ms\":         \"Mrs\",\n",
    "                    \"Mr\" :        \"Mr\",\n",
    "                    \"Mrs\" :       \"Mrs\",\n",
    "                    \"Miss\" :      \"Miss\",\n",
    "                    \"Master\" :    \"Master\",\n",
    "                    \"Lady\" :      \"Royalty\"\n",
    "\n",
    "                    }"
   ]
  },
  {
   "cell_type": "markdown",
   "metadata": {},
   "source": [
    "After converting the **Name** column, I run my code to build the tree again and I achieve the accuracy of **79%**. "
   ]
  },
  {
   "cell_type": "markdown",
   "metadata": {},
   "source": [
    "You can get the whole code [here](https://github.com/vtnlinh95/Titanic_passenger_surrvival_prediction/blob/master/TitanicPrediction.py)"
   ]
  },
  {
   "cell_type": "code",
   "execution_count": null,
   "metadata": {},
   "outputs": [],
   "source": []
  }
 ],
 "metadata": {
  "kernelspec": {
   "display_name": "Python 2",
   "language": "python",
   "name": "python2"
  },
  "language_info": {
   "codemirror_mode": {
    "name": "ipython",
    "version": 2
   },
   "file_extension": ".py",
   "mimetype": "text/x-python",
   "name": "python",
   "nbconvert_exporter": "python",
   "pygments_lexer": "ipython2",
   "version": "2.7.15"
  }
 },
 "nbformat": 4,
 "nbformat_minor": 2
}
